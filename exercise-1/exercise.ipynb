{
 "cells": [
  {
   "cell_type": "markdown",
   "metadata": {},
   "source": [
    "# Exercise 1\n",
    "Add the specified code for each code cell, running the cells _in order_."
   ]
  },
  {
   "cell_type": "markdown",
   "metadata": {},
   "source": [
    "In this exercise, you'll be accessing data from the [Github API](https://developer.github.com/v3/). You will need to read the documentation at **<https://developer.github.com/v3/>** in order to discover appropriate endpoints, their parameters, and their schemas. (Categories of endpoints are listed on the right, with multiple endpoints described per page)."
   ]
  },
  {
   "cell_type": "markdown",
   "metadata": {},
   "source": [
    "First, import the **`requests`** module for accessing web data."
   ]
  },
  {
   "cell_type": "code",
   "execution_count": 1,
   "metadata": {},
   "outputs": [],
   "source": [
    "import requests"
   ]
  },
  {
   "cell_type": "markdown",
   "metadata": {},
   "source": [
    "Create a variable **`base_uri`** that stores the base URI (as a string) for the Github API (`https://api.github.com`)"
   ]
  },
  {
   "cell_type": "code",
   "execution_count": 2,
   "metadata": {},
   "outputs": [],
   "source": [
    "base_uri = \"https://api.github.com\""
   ]
  },
  {
   "cell_type": "markdown",
   "metadata": {},
   "source": [
    "Under the \"Repositories\" category of the API documentation, find the endpoint that will list _repos in an organization._ Then create a variable **`org_resource`** that stores the endpoint for the `infx511` organization repos (this is the _path_ to the resource of interest).\n",
    "- (FYI: this is where we keep the book code and master exercise sets!)"
   ]
  },
  {
   "cell_type": "code",
   "execution_count": 30,
   "metadata": {},
   "outputs": [],
   "source": [
    "org_resource = \"/orgs/\" + \"imt511a-wi19\" + \"/repos\""
   ]
  },
  {
   "cell_type": "markdown",
   "metadata": {},
   "source": [
    "Send a `get()` request to this endpoint (the `base_uri` followed by the `org_resource` path). Print the response's `status_code` and `url` to show that your request worked worked. (This will also allow you to inspect the JSON in the browser easily)."
   ]
  },
  {
   "cell_type": "code",
   "execution_count": 31,
   "metadata": {},
   "outputs": [
    {
     "name": "stdout",
     "output_type": "stream",
     "text": [
      "https://api.github.com/orgs/imt511a-wi19/repos <Response [200]>\n"
     ]
    }
   ],
   "source": [
    "url = base_uri + org_resource\n",
    "response = requests.get(url)\n",
    "print(url, response)"
   ]
  },
  {
   "cell_type": "markdown",
   "metadata": {},
   "source": [
    "Access the response's JSON content as a Python _list_. How many repositories does the organization have? (e.g., how many items are in the list?)"
   ]
  },
  {
   "cell_type": "code",
   "execution_count": 32,
   "metadata": {},
   "outputs": [
    {
     "name": "stdout",
     "output_type": "stream",
     "text": [
      "8\n",
      "[{'id': 166702497, 'node_id': 'MDEwOlJlcG9zaXRvcnkxNjY3MDI0OTc=', 'name': 'Lecture_3_notes', 'full_name': 'imt511a-wi19/Lecture_3_notes', 'private': False, 'owner': {'login': 'imt511a-wi19', 'id': 45907621, 'node_id': 'MDEyOk9yZ2FuaXphdGlvbjQ1OTA3NjIx', 'avatar_url': 'https://avatars3.githubusercontent.com/u/45907621?v=4', 'gravatar_id': '', 'url': 'https://api.github.com/users/imt511a-wi19', 'html_url': 'https://github.com/imt511a-wi19', 'followers_url': 'https://api.github.com/users/imt511a-wi19/followers', 'following_url': 'https://api.github.com/users/imt511a-wi19/following{/other_user}', 'gists_url': 'https://api.github.com/users/imt511a-wi19/gists{/gist_id}', 'starred_url': 'https://api.github.com/users/imt511a-wi19/starred{/owner}{/repo}', 'subscriptions_url': 'https://api.github.com/users/imt511a-wi19/subscriptions', 'organizations_url': 'https://api.github.com/users/imt511a-wi19/orgs', 'repos_url': 'https://api.github.com/users/imt511a-wi19/repos', 'events_url': 'https://api.github.com/users/imt511a-wi19/events{/privacy}', 'received_events_url': 'https://api.github.com/users/imt511a-wi19/received_events', 'type': 'Organization', 'site_admin': False}, 'html_url': 'https://github.com/imt511a-wi19/Lecture_3_notes', 'description': 'To be used for Lecture 3 or referenced during HW 2', 'fork': False, 'url': 'https://api.github.com/repos/imt511a-wi19/Lecture_3_notes', 'forks_url': 'https://api.github.com/repos/imt511a-wi19/Lecture_3_notes/forks', 'keys_url': 'https://api.github.com/repos/imt511a-wi19/Lecture_3_notes/keys{/key_id}', 'collaborators_url': 'https://api.github.com/repos/imt511a-wi19/Lecture_3_notes/collaborators{/collaborator}', 'teams_url': 'https://api.github.com/repos/imt511a-wi19/Lecture_3_notes/teams', 'hooks_url': 'https://api.github.com/repos/imt511a-wi19/Lecture_3_notes/hooks', 'issue_events_url': 'https://api.github.com/repos/imt511a-wi19/Lecture_3_notes/issues/events{/number}', 'events_url': 'https://api.github.com/repos/imt511a-wi19/Lecture_3_notes/events', 'assignees_url': 'https://api.github.com/repos/imt511a-wi19/Lecture_3_notes/assignees{/user}', 'branches_url': 'https://api.github.com/repos/imt511a-wi19/Lecture_3_notes/branches{/branch}', 'tags_url': 'https://api.github.com/repos/imt511a-wi19/Lecture_3_notes/tags', 'blobs_url': 'https://api.github.com/repos/imt511a-wi19/Lecture_3_notes/git/blobs{/sha}', 'git_tags_url': 'https://api.github.com/repos/imt511a-wi19/Lecture_3_notes/git/tags{/sha}', 'git_refs_url': 'https://api.github.com/repos/imt511a-wi19/Lecture_3_notes/git/refs{/sha}', 'trees_url': 'https://api.github.com/repos/imt511a-wi19/Lecture_3_notes/git/trees{/sha}', 'statuses_url': 'https://api.github.com/repos/imt511a-wi19/Lecture_3_notes/statuses/{sha}', 'languages_url': 'https://api.github.com/repos/imt511a-wi19/Lecture_3_notes/languages', 'stargazers_url': 'https://api.github.com/repos/imt511a-wi19/Lecture_3_notes/stargazers', 'contributors_url': 'https://api.github.com/repos/imt511a-wi19/Lecture_3_notes/contributors', 'subscribers_url': 'https://api.github.com/repos/imt511a-wi19/Lecture_3_notes/subscribers', 'subscription_url': 'https://api.github.com/repos/imt511a-wi19/Lecture_3_notes/subscription', 'commits_url': 'https://api.github.com/repos/imt511a-wi19/Lecture_3_notes/commits{/sha}', 'git_commits_url': 'https://api.github.com/repos/imt511a-wi19/Lecture_3_notes/git/commits{/sha}', 'comments_url': 'https://api.github.com/repos/imt511a-wi19/Lecture_3_notes/comments{/number}', 'issue_comment_url': 'https://api.github.com/repos/imt511a-wi19/Lecture_3_notes/issues/comments{/number}', 'contents_url': 'https://api.github.com/repos/imt511a-wi19/Lecture_3_notes/contents/{+path}', 'compare_url': 'https://api.github.com/repos/imt511a-wi19/Lecture_3_notes/compare/{base}...{head}', 'merges_url': 'https://api.github.com/repos/imt511a-wi19/Lecture_3_notes/merges', 'archive_url': 'https://api.github.com/repos/imt511a-wi19/Lecture_3_notes/{archive_format}{/ref}', 'downloads_url': 'https://api.github.com/repos/imt511a-wi19/Lecture_3_notes/downloads', 'issues_url': 'https://api.github.com/repos/imt511a-wi19/Lecture_3_notes/issues{/number}', 'pulls_url': 'https://api.github.com/repos/imt511a-wi19/Lecture_3_notes/pulls{/number}', 'milestones_url': 'https://api.github.com/repos/imt511a-wi19/Lecture_3_notes/milestones{/number}', 'notifications_url': 'https://api.github.com/repos/imt511a-wi19/Lecture_3_notes/notifications{?since,all,participating}', 'labels_url': 'https://api.github.com/repos/imt511a-wi19/Lecture_3_notes/labels{/name}', 'releases_url': 'https://api.github.com/repos/imt511a-wi19/Lecture_3_notes/releases{/id}', 'deployments_url': 'https://api.github.com/repos/imt511a-wi19/Lecture_3_notes/deployments', 'created_at': '2019-01-20T19:51:28Z', 'updated_at': '2019-01-23T04:32:53Z', 'pushed_at': '2019-01-23T04:32:51Z', 'git_url': 'git://github.com/imt511a-wi19/Lecture_3_notes.git', 'ssh_url': 'git@github.com:imt511a-wi19/Lecture_3_notes.git', 'clone_url': 'https://github.com/imt511a-wi19/Lecture_3_notes.git', 'svn_url': 'https://github.com/imt511a-wi19/Lecture_3_notes', 'homepage': '', 'size': 7, 'stargazers_count': 0, 'watchers_count': 0, 'language': 'Jupyter Notebook', 'has_issues': True, 'has_projects': True, 'has_downloads': True, 'has_wiki': True, 'has_pages': False, 'forks_count': 1, 'mirror_url': None, 'archived': False, 'open_issues_count': 0, 'license': None, 'forks': 1, 'open_issues': 0, 'watchers': 0, 'default_branch': 'master', 'permissions': {'admin': False, 'push': False, 'pull': True}}, {'id': 167759232, 'node_id': 'MDEwOlJlcG9zaXRvcnkxNjc3NTkyMzI=', 'name': 'Lecture_4_Notes', 'full_name': 'imt511a-wi19/Lecture_4_Notes', 'private': False, 'owner': {'login': 'imt511a-wi19', 'id': 45907621, 'node_id': 'MDEyOk9yZ2FuaXphdGlvbjQ1OTA3NjIx', 'avatar_url': 'https://avatars3.githubusercontent.com/u/45907621?v=4', 'gravatar_id': '', 'url': 'https://api.github.com/users/imt511a-wi19', 'html_url': 'https://github.com/imt511a-wi19', 'followers_url': 'https://api.github.com/users/imt511a-wi19/followers', 'following_url': 'https://api.github.com/users/imt511a-wi19/following{/other_user}', 'gists_url': 'https://api.github.com/users/imt511a-wi19/gists{/gist_id}', 'starred_url': 'https://api.github.com/users/imt511a-wi19/starred{/owner}{/repo}', 'subscriptions_url': 'https://api.github.com/users/imt511a-wi19/subscriptions', 'organizations_url': 'https://api.github.com/users/imt511a-wi19/orgs', 'repos_url': 'https://api.github.com/users/imt511a-wi19/repos', 'events_url': 'https://api.github.com/users/imt511a-wi19/events{/privacy}', 'received_events_url': 'https://api.github.com/users/imt511a-wi19/received_events', 'type': 'Organization', 'site_admin': False}, 'html_url': 'https://github.com/imt511a-wi19/Lecture_4_Notes', 'description': None, 'fork': False, 'url': 'https://api.github.com/repos/imt511a-wi19/Lecture_4_Notes', 'forks_url': 'https://api.github.com/repos/imt511a-wi19/Lecture_4_Notes/forks', 'keys_url': 'https://api.github.com/repos/imt511a-wi19/Lecture_4_Notes/keys{/key_id}', 'collaborators_url': 'https://api.github.com/repos/imt511a-wi19/Lecture_4_Notes/collaborators{/collaborator}', 'teams_url': 'https://api.github.com/repos/imt511a-wi19/Lecture_4_Notes/teams', 'hooks_url': 'https://api.github.com/repos/imt511a-wi19/Lecture_4_Notes/hooks', 'issue_events_url': 'https://api.github.com/repos/imt511a-wi19/Lecture_4_Notes/issues/events{/number}', 'events_url': 'https://api.github.com/repos/imt511a-wi19/Lecture_4_Notes/events', 'assignees_url': 'https://api.github.com/repos/imt511a-wi19/Lecture_4_Notes/assignees{/user}', 'branches_url': 'https://api.github.com/repos/imt511a-wi19/Lecture_4_Notes/branches{/branch}', 'tags_url': 'https://api.github.com/repos/imt511a-wi19/Lecture_4_Notes/tags', 'blobs_url': 'https://api.github.com/repos/imt511a-wi19/Lecture_4_Notes/git/blobs{/sha}', 'git_tags_url': 'https://api.github.com/repos/imt511a-wi19/Lecture_4_Notes/git/tags{/sha}', 'git_refs_url': 'https://api.github.com/repos/imt511a-wi19/Lecture_4_Notes/git/refs{/sha}', 'trees_url': 'https://api.github.com/repos/imt511a-wi19/Lecture_4_Notes/git/trees{/sha}', 'statuses_url': 'https://api.github.com/repos/imt511a-wi19/Lecture_4_Notes/statuses/{sha}', 'languages_url': 'https://api.github.com/repos/imt511a-wi19/Lecture_4_Notes/languages', 'stargazers_url': 'https://api.github.com/repos/imt511a-wi19/Lecture_4_Notes/stargazers', 'contributors_url': 'https://api.github.com/repos/imt511a-wi19/Lecture_4_Notes/contributors', 'subscribers_url': 'https://api.github.com/repos/imt511a-wi19/Lecture_4_Notes/subscribers', 'subscription_url': 'https://api.github.com/repos/imt511a-wi19/Lecture_4_Notes/subscription', 'commits_url': 'https://api.github.com/repos/imt511a-wi19/Lecture_4_Notes/commits{/sha}', 'git_commits_url': 'https://api.github.com/repos/imt511a-wi19/Lecture_4_Notes/git/commits{/sha}', 'comments_url': 'https://api.github.com/repos/imt511a-wi19/Lecture_4_Notes/comments{/number}', 'issue_comment_url': 'https://api.github.com/repos/imt511a-wi19/Lecture_4_Notes/issues/comments{/number}', 'contents_url': 'https://api.github.com/repos/imt511a-wi19/Lecture_4_Notes/contents/{+path}', 'compare_url': 'https://api.github.com/repos/imt511a-wi19/Lecture_4_Notes/compare/{base}...{head}', 'merges_url': 'https://api.github.com/repos/imt511a-wi19/Lecture_4_Notes/merges', 'archive_url': 'https://api.github.com/repos/imt511a-wi19/Lecture_4_Notes/{archive_format}{/ref}', 'downloads_url': 'https://api.github.com/repos/imt511a-wi19/Lecture_4_Notes/downloads', 'issues_url': 'https://api.github.com/repos/imt511a-wi19/Lecture_4_Notes/issues{/number}', 'pulls_url': 'https://api.github.com/repos/imt511a-wi19/Lecture_4_Notes/pulls{/number}', 'milestones_url': 'https://api.github.com/repos/imt511a-wi19/Lecture_4_Notes/milestones{/number}', 'notifications_url': 'https://api.github.com/repos/imt511a-wi19/Lecture_4_Notes/notifications{?since,all,participating}', 'labels_url': 'https://api.github.com/repos/imt511a-wi19/Lecture_4_Notes/labels{/name}', 'releases_url': 'https://api.github.com/repos/imt511a-wi19/Lecture_4_Notes/releases{/id}', 'deployments_url': 'https://api.github.com/repos/imt511a-wi19/Lecture_4_Notes/deployments', 'created_at': '2019-01-27T01:55:04Z', 'updated_at': '2019-01-28T00:06:01Z', 'pushed_at': '2019-01-28T00:06:00Z', 'git_url': 'git://github.com/imt511a-wi19/Lecture_4_Notes.git', 'ssh_url': 'git@github.com:imt511a-wi19/Lecture_4_Notes.git', 'clone_url': 'https://github.com/imt511a-wi19/Lecture_4_Notes.git', 'svn_url': 'https://github.com/imt511a-wi19/Lecture_4_Notes', 'homepage': None, 'size': 14, 'stargazers_count': 0, 'watchers_count': 0, 'language': 'Jupyter Notebook', 'has_issues': True, 'has_projects': True, 'has_downloads': True, 'has_wiki': True, 'has_pages': False, 'forks_count': 5, 'mirror_url': None, 'archived': False, 'open_issues_count': 0, 'license': {'key': 'mit', 'name': 'MIT License', 'spdx_id': 'MIT', 'url': 'https://api.github.com/licenses/mit', 'node_id': 'MDc6TGljZW5zZTEz'}, 'forks': 5, 'open_issues': 0, 'watchers': 0, 'default_branch': 'master', 'permissions': {'admin': False, 'push': False, 'pull': True}}, {'id': 168297620, 'node_id': 'MDEwOlJlcG9zaXRvcnkxNjgyOTc2MjA=', 'name': 'HW3_Helpful_Hints', 'full_name': 'imt511a-wi19/HW3_Helpful_Hints', 'private': False, 'owner': {'login': 'imt511a-wi19', 'id': 45907621, 'node_id': 'MDEyOk9yZ2FuaXphdGlvbjQ1OTA3NjIx', 'avatar_url': 'https://avatars3.githubusercontent.com/u/45907621?v=4', 'gravatar_id': '', 'url': 'https://api.github.com/users/imt511a-wi19', 'html_url': 'https://github.com/imt511a-wi19', 'followers_url': 'https://api.github.com/users/imt511a-wi19/followers', 'following_url': 'https://api.github.com/users/imt511a-wi19/following{/other_user}', 'gists_url': 'https://api.github.com/users/imt511a-wi19/gists{/gist_id}', 'starred_url': 'https://api.github.com/users/imt511a-wi19/starred{/owner}{/repo}', 'subscriptions_url': 'https://api.github.com/users/imt511a-wi19/subscriptions', 'organizations_url': 'https://api.github.com/users/imt511a-wi19/orgs', 'repos_url': 'https://api.github.com/users/imt511a-wi19/repos', 'events_url': 'https://api.github.com/users/imt511a-wi19/events{/privacy}', 'received_events_url': 'https://api.github.com/users/imt511a-wi19/received_events', 'type': 'Organization', 'site_admin': False}, 'html_url': 'https://github.com/imt511a-wi19/HW3_Helpful_Hints', 'description': 'Tips/Tricks/Cheat Codes for HW 3', 'fork': False, 'url': 'https://api.github.com/repos/imt511a-wi19/HW3_Helpful_Hints', 'forks_url': 'https://api.github.com/repos/imt511a-wi19/HW3_Helpful_Hints/forks', 'keys_url': 'https://api.github.com/repos/imt511a-wi19/HW3_Helpful_Hints/keys{/key_id}', 'collaborators_url': 'https://api.github.com/repos/imt511a-wi19/HW3_Helpful_Hints/collaborators{/collaborator}', 'teams_url': 'https://api.github.com/repos/imt511a-wi19/HW3_Helpful_Hints/teams', 'hooks_url': 'https://api.github.com/repos/imt511a-wi19/HW3_Helpful_Hints/hooks', 'issue_events_url': 'https://api.github.com/repos/imt511a-wi19/HW3_Helpful_Hints/issues/events{/number}', 'events_url': 'https://api.github.com/repos/imt511a-wi19/HW3_Helpful_Hints/events', 'assignees_url': 'https://api.github.com/repos/imt511a-wi19/HW3_Helpful_Hints/assignees{/user}', 'branches_url': 'https://api.github.com/repos/imt511a-wi19/HW3_Helpful_Hints/branches{/branch}', 'tags_url': 'https://api.github.com/repos/imt511a-wi19/HW3_Helpful_Hints/tags', 'blobs_url': 'https://api.github.com/repos/imt511a-wi19/HW3_Helpful_Hints/git/blobs{/sha}', 'git_tags_url': 'https://api.github.com/repos/imt511a-wi19/HW3_Helpful_Hints/git/tags{/sha}', 'git_refs_url': 'https://api.github.com/repos/imt511a-wi19/HW3_Helpful_Hints/git/refs{/sha}', 'trees_url': 'https://api.github.com/repos/imt511a-wi19/HW3_Helpful_Hints/git/trees{/sha}', 'statuses_url': 'https://api.github.com/repos/imt511a-wi19/HW3_Helpful_Hints/statuses/{sha}', 'languages_url': 'https://api.github.com/repos/imt511a-wi19/HW3_Helpful_Hints/languages', 'stargazers_url': 'https://api.github.com/repos/imt511a-wi19/HW3_Helpful_Hints/stargazers', 'contributors_url': 'https://api.github.com/repos/imt511a-wi19/HW3_Helpful_Hints/contributors', 'subscribers_url': 'https://api.github.com/repos/imt511a-wi19/HW3_Helpful_Hints/subscribers', 'subscription_url': 'https://api.github.com/repos/imt511a-wi19/HW3_Helpful_Hints/subscription', 'commits_url': 'https://api.github.com/repos/imt511a-wi19/HW3_Helpful_Hints/commits{/sha}', 'git_commits_url': 'https://api.github.com/repos/imt511a-wi19/HW3_Helpful_Hints/git/commits{/sha}', 'comments_url': 'https://api.github.com/repos/imt511a-wi19/HW3_Helpful_Hints/comments{/number}', 'issue_comment_url': 'https://api.github.com/repos/imt511a-wi19/HW3_Helpful_Hints/issues/comments{/number}', 'contents_url': 'https://api.github.com/repos/imt511a-wi19/HW3_Helpful_Hints/contents/{+path}', 'compare_url': 'https://api.github.com/repos/imt511a-wi19/HW3_Helpful_Hints/compare/{base}...{head}', 'merges_url': 'https://api.github.com/repos/imt511a-wi19/HW3_Helpful_Hints/merges', 'archive_url': 'https://api.github.com/repos/imt511a-wi19/HW3_Helpful_Hints/{archive_format}{/ref}', 'downloads_url': 'https://api.github.com/repos/imt511a-wi19/HW3_Helpful_Hints/downloads', 'issues_url': 'https://api.github.com/repos/imt511a-wi19/HW3_Helpful_Hints/issues{/number}', 'pulls_url': 'https://api.github.com/repos/imt511a-wi19/HW3_Helpful_Hints/pulls{/number}', 'milestones_url': 'https://api.github.com/repos/imt511a-wi19/HW3_Helpful_Hints/milestones{/number}', 'notifications_url': 'https://api.github.com/repos/imt511a-wi19/HW3_Helpful_Hints/notifications{?since,all,participating}', 'labels_url': 'https://api.github.com/repos/imt511a-wi19/HW3_Helpful_Hints/labels{/name}', 'releases_url': 'https://api.github.com/repos/imt511a-wi19/HW3_Helpful_Hints/releases{/id}', 'deployments_url': 'https://api.github.com/repos/imt511a-wi19/HW3_Helpful_Hints/deployments', 'created_at': '2019-01-30T07:18:20Z', 'updated_at': '2019-02-01T06:33:03Z', 'pushed_at': '2019-02-01T06:33:01Z', 'git_url': 'git://github.com/imt511a-wi19/HW3_Helpful_Hints.git', 'ssh_url': 'git@github.com:imt511a-wi19/HW3_Helpful_Hints.git', 'clone_url': 'https://github.com/imt511a-wi19/HW3_Helpful_Hints.git', 'svn_url': 'https://github.com/imt511a-wi19/HW3_Helpful_Hints', 'homepage': None, 'size': 11, 'stargazers_count': 0, 'watchers_count': 0, 'language': 'Jupyter Notebook', 'has_issues': True, 'has_projects': True, 'has_downloads': True, 'has_wiki': True, 'has_pages': False, 'forks_count': 9, 'mirror_url': None, 'archived': False, 'open_issues_count': 0, 'license': None, 'forks': 9, 'open_issues': 0, 'watchers': 0, 'default_branch': 'master', 'permissions': {'admin': False, 'push': False, 'pull': True}}, {'id': 168862803, 'node_id': 'MDEwOlJlcG9zaXRvcnkxNjg4NjI4MDM=', 'name': 'Lecture_5_Notes', 'full_name': 'imt511a-wi19/Lecture_5_Notes', 'private': False, 'owner': {'login': 'imt511a-wi19', 'id': 45907621, 'node_id': 'MDEyOk9yZ2FuaXphdGlvbjQ1OTA3NjIx', 'avatar_url': 'https://avatars3.githubusercontent.com/u/45907621?v=4', 'gravatar_id': '', 'url': 'https://api.github.com/users/imt511a-wi19', 'html_url': 'https://github.com/imt511a-wi19', 'followers_url': 'https://api.github.com/users/imt511a-wi19/followers', 'following_url': 'https://api.github.com/users/imt511a-wi19/following{/other_user}', 'gists_url': 'https://api.github.com/users/imt511a-wi19/gists{/gist_id}', 'starred_url': 'https://api.github.com/users/imt511a-wi19/starred{/owner}{/repo}', 'subscriptions_url': 'https://api.github.com/users/imt511a-wi19/subscriptions', 'organizations_url': 'https://api.github.com/users/imt511a-wi19/orgs', 'repos_url': 'https://api.github.com/users/imt511a-wi19/repos', 'events_url': 'https://api.github.com/users/imt511a-wi19/events{/privacy}', 'received_events_url': 'https://api.github.com/users/imt511a-wi19/received_events', 'type': 'Organization', 'site_admin': False}, 'html_url': 'https://github.com/imt511a-wi19/Lecture_5_Notes', 'description': 'Contains in class examples to be used as reference later for students', 'fork': False, 'url': 'https://api.github.com/repos/imt511a-wi19/Lecture_5_Notes', 'forks_url': 'https://api.github.com/repos/imt511a-wi19/Lecture_5_Notes/forks', 'keys_url': 'https://api.github.com/repos/imt511a-wi19/Lecture_5_Notes/keys{/key_id}', 'collaborators_url': 'https://api.github.com/repos/imt511a-wi19/Lecture_5_Notes/collaborators{/collaborator}', 'teams_url': 'https://api.github.com/repos/imt511a-wi19/Lecture_5_Notes/teams', 'hooks_url': 'https://api.github.com/repos/imt511a-wi19/Lecture_5_Notes/hooks', 'issue_events_url': 'https://api.github.com/repos/imt511a-wi19/Lecture_5_Notes/issues/events{/number}', 'events_url': 'https://api.github.com/repos/imt511a-wi19/Lecture_5_Notes/events', 'assignees_url': 'https://api.github.com/repos/imt511a-wi19/Lecture_5_Notes/assignees{/user}', 'branches_url': 'https://api.github.com/repos/imt511a-wi19/Lecture_5_Notes/branches{/branch}', 'tags_url': 'https://api.github.com/repos/imt511a-wi19/Lecture_5_Notes/tags', 'blobs_url': 'https://api.github.com/repos/imt511a-wi19/Lecture_5_Notes/git/blobs{/sha}', 'git_tags_url': 'https://api.github.com/repos/imt511a-wi19/Lecture_5_Notes/git/tags{/sha}', 'git_refs_url': 'https://api.github.com/repos/imt511a-wi19/Lecture_5_Notes/git/refs{/sha}', 'trees_url': 'https://api.github.com/repos/imt511a-wi19/Lecture_5_Notes/git/trees{/sha}', 'statuses_url': 'https://api.github.com/repos/imt511a-wi19/Lecture_5_Notes/statuses/{sha}', 'languages_url': 'https://api.github.com/repos/imt511a-wi19/Lecture_5_Notes/languages', 'stargazers_url': 'https://api.github.com/repos/imt511a-wi19/Lecture_5_Notes/stargazers', 'contributors_url': 'https://api.github.com/repos/imt511a-wi19/Lecture_5_Notes/contributors', 'subscribers_url': 'https://api.github.com/repos/imt511a-wi19/Lecture_5_Notes/subscribers', 'subscription_url': 'https://api.github.com/repos/imt511a-wi19/Lecture_5_Notes/subscription', 'commits_url': 'https://api.github.com/repos/imt511a-wi19/Lecture_5_Notes/commits{/sha}', 'git_commits_url': 'https://api.github.com/repos/imt511a-wi19/Lecture_5_Notes/git/commits{/sha}', 'comments_url': 'https://api.github.com/repos/imt511a-wi19/Lecture_5_Notes/comments{/number}', 'issue_comment_url': 'https://api.github.com/repos/imt511a-wi19/Lecture_5_Notes/issues/comments{/number}', 'contents_url': 'https://api.github.com/repos/imt511a-wi19/Lecture_5_Notes/contents/{+path}', 'compare_url': 'https://api.github.com/repos/imt511a-wi19/Lecture_5_Notes/compare/{base}...{head}', 'merges_url': 'https://api.github.com/repos/imt511a-wi19/Lecture_5_Notes/merges', 'archive_url': 'https://api.github.com/repos/imt511a-wi19/Lecture_5_Notes/{archive_format}{/ref}', 'downloads_url': 'https://api.github.com/repos/imt511a-wi19/Lecture_5_Notes/downloads', 'issues_url': 'https://api.github.com/repos/imt511a-wi19/Lecture_5_Notes/issues{/number}', 'pulls_url': 'https://api.github.com/repos/imt511a-wi19/Lecture_5_Notes/pulls{/number}', 'milestones_url': 'https://api.github.com/repos/imt511a-wi19/Lecture_5_Notes/milestones{/number}', 'notifications_url': 'https://api.github.com/repos/imt511a-wi19/Lecture_5_Notes/notifications{?since,all,participating}', 'labels_url': 'https://api.github.com/repos/imt511a-wi19/Lecture_5_Notes/labels{/name}', 'releases_url': 'https://api.github.com/repos/imt511a-wi19/Lecture_5_Notes/releases{/id}', 'deployments_url': 'https://api.github.com/repos/imt511a-wi19/Lecture_5_Notes/deployments', 'created_at': '2019-02-02T18:19:58Z', 'updated_at': '2019-02-09T23:56:29Z', 'pushed_at': '2019-02-09T23:56:28Z', 'git_url': 'git://github.com/imt511a-wi19/Lecture_5_Notes.git', 'ssh_url': 'git@github.com:imt511a-wi19/Lecture_5_Notes.git', 'clone_url': 'https://github.com/imt511a-wi19/Lecture_5_Notes.git', 'svn_url': 'https://github.com/imt511a-wi19/Lecture_5_Notes', 'homepage': '', 'size': 5, 'stargazers_count': 0, 'watchers_count': 0, 'language': 'Jupyter Notebook', 'has_issues': True, 'has_projects': True, 'has_downloads': True, 'has_wiki': True, 'has_pages': False, 'forks_count': 10, 'mirror_url': None, 'archived': False, 'open_issues_count': 0, 'license': None, 'forks': 10, 'open_issues': 0, 'watchers': 0, 'default_branch': 'master', 'permissions': {'admin': False, 'push': False, 'pull': True}}, {'id': 171042049, 'node_id': 'MDEwOlJlcG9zaXRvcnkxNzEwNDIwNDk=', 'name': 'Lecture_7_Notes', 'full_name': 'imt511a-wi19/Lecture_7_Notes', 'private': False, 'owner': {'login': 'imt511a-wi19', 'id': 45907621, 'node_id': 'MDEyOk9yZ2FuaXphdGlvbjQ1OTA3NjIx', 'avatar_url': 'https://avatars3.githubusercontent.com/u/45907621?v=4', 'gravatar_id': '', 'url': 'https://api.github.com/users/imt511a-wi19', 'html_url': 'https://github.com/imt511a-wi19', 'followers_url': 'https://api.github.com/users/imt511a-wi19/followers', 'following_url': 'https://api.github.com/users/imt511a-wi19/following{/other_user}', 'gists_url': 'https://api.github.com/users/imt511a-wi19/gists{/gist_id}', 'starred_url': 'https://api.github.com/users/imt511a-wi19/starred{/owner}{/repo}', 'subscriptions_url': 'https://api.github.com/users/imt511a-wi19/subscriptions', 'organizations_url': 'https://api.github.com/users/imt511a-wi19/orgs', 'repos_url': 'https://api.github.com/users/imt511a-wi19/repos', 'events_url': 'https://api.github.com/users/imt511a-wi19/events{/privacy}', 'received_events_url': 'https://api.github.com/users/imt511a-wi19/received_events', 'type': 'Organization', 'site_admin': False}, 'html_url': 'https://github.com/imt511a-wi19/Lecture_7_Notes', 'description': None, 'fork': False, 'url': 'https://api.github.com/repos/imt511a-wi19/Lecture_7_Notes', 'forks_url': 'https://api.github.com/repos/imt511a-wi19/Lecture_7_Notes/forks', 'keys_url': 'https://api.github.com/repos/imt511a-wi19/Lecture_7_Notes/keys{/key_id}', 'collaborators_url': 'https://api.github.com/repos/imt511a-wi19/Lecture_7_Notes/collaborators{/collaborator}', 'teams_url': 'https://api.github.com/repos/imt511a-wi19/Lecture_7_Notes/teams', 'hooks_url': 'https://api.github.com/repos/imt511a-wi19/Lecture_7_Notes/hooks', 'issue_events_url': 'https://api.github.com/repos/imt511a-wi19/Lecture_7_Notes/issues/events{/number}', 'events_url': 'https://api.github.com/repos/imt511a-wi19/Lecture_7_Notes/events', 'assignees_url': 'https://api.github.com/repos/imt511a-wi19/Lecture_7_Notes/assignees{/user}', 'branches_url': 'https://api.github.com/repos/imt511a-wi19/Lecture_7_Notes/branches{/branch}', 'tags_url': 'https://api.github.com/repos/imt511a-wi19/Lecture_7_Notes/tags', 'blobs_url': 'https://api.github.com/repos/imt511a-wi19/Lecture_7_Notes/git/blobs{/sha}', 'git_tags_url': 'https://api.github.com/repos/imt511a-wi19/Lecture_7_Notes/git/tags{/sha}', 'git_refs_url': 'https://api.github.com/repos/imt511a-wi19/Lecture_7_Notes/git/refs{/sha}', 'trees_url': 'https://api.github.com/repos/imt511a-wi19/Lecture_7_Notes/git/trees{/sha}', 'statuses_url': 'https://api.github.com/repos/imt511a-wi19/Lecture_7_Notes/statuses/{sha}', 'languages_url': 'https://api.github.com/repos/imt511a-wi19/Lecture_7_Notes/languages', 'stargazers_url': 'https://api.github.com/repos/imt511a-wi19/Lecture_7_Notes/stargazers', 'contributors_url': 'https://api.github.com/repos/imt511a-wi19/Lecture_7_Notes/contributors', 'subscribers_url': 'https://api.github.com/repos/imt511a-wi19/Lecture_7_Notes/subscribers', 'subscription_url': 'https://api.github.com/repos/imt511a-wi19/Lecture_7_Notes/subscription', 'commits_url': 'https://api.github.com/repos/imt511a-wi19/Lecture_7_Notes/commits{/sha}', 'git_commits_url': 'https://api.github.com/repos/imt511a-wi19/Lecture_7_Notes/git/commits{/sha}', 'comments_url': 'https://api.github.com/repos/imt511a-wi19/Lecture_7_Notes/comments{/number}', 'issue_comment_url': 'https://api.github.com/repos/imt511a-wi19/Lecture_7_Notes/issues/comments{/number}', 'contents_url': 'https://api.github.com/repos/imt511a-wi19/Lecture_7_Notes/contents/{+path}', 'compare_url': 'https://api.github.com/repos/imt511a-wi19/Lecture_7_Notes/compare/{base}...{head}', 'merges_url': 'https://api.github.com/repos/imt511a-wi19/Lecture_7_Notes/merges', 'archive_url': 'https://api.github.com/repos/imt511a-wi19/Lecture_7_Notes/{archive_format}{/ref}', 'downloads_url': 'https://api.github.com/repos/imt511a-wi19/Lecture_7_Notes/downloads', 'issues_url': 'https://api.github.com/repos/imt511a-wi19/Lecture_7_Notes/issues{/number}', 'pulls_url': 'https://api.github.com/repos/imt511a-wi19/Lecture_7_Notes/pulls{/number}', 'milestones_url': 'https://api.github.com/repos/imt511a-wi19/Lecture_7_Notes/milestones{/number}', 'notifications_url': 'https://api.github.com/repos/imt511a-wi19/Lecture_7_Notes/notifications{?since,all,participating}', 'labels_url': 'https://api.github.com/repos/imt511a-wi19/Lecture_7_Notes/labels{/name}', 'releases_url': 'https://api.github.com/repos/imt511a-wi19/Lecture_7_Notes/releases{/id}', 'deployments_url': 'https://api.github.com/repos/imt511a-wi19/Lecture_7_Notes/deployments', 'created_at': '2019-02-16T19:18:43Z', 'updated_at': '2019-02-16T19:25:59Z', 'pushed_at': '2019-02-16T19:25:58Z', 'git_url': 'git://github.com/imt511a-wi19/Lecture_7_Notes.git', 'ssh_url': 'git@github.com:imt511a-wi19/Lecture_7_Notes.git', 'clone_url': 'https://github.com/imt511a-wi19/Lecture_7_Notes.git', 'svn_url': 'https://github.com/imt511a-wi19/Lecture_7_Notes', 'homepage': None, 'size': 3, 'stargazers_count': 0, 'watchers_count': 0, 'language': 'Jupyter Notebook', 'has_issues': True, 'has_projects': True, 'has_downloads': True, 'has_wiki': True, 'has_pages': False, 'forks_count': 5, 'mirror_url': None, 'archived': False, 'open_issues_count': 0, 'license': None, 'forks': 5, 'open_issues': 0, 'watchers': 0, 'default_branch': 'master', 'permissions': {'admin': False, 'push': False, 'pull': True}}, {'id': 171188026, 'node_id': 'MDEwOlJlcG9zaXRvcnkxNzExODgwMjY=', 'name': 'Lecture_8_Notes', 'full_name': 'imt511a-wi19/Lecture_8_Notes', 'private': False, 'owner': {'login': 'imt511a-wi19', 'id': 45907621, 'node_id': 'MDEyOk9yZ2FuaXphdGlvbjQ1OTA3NjIx', 'avatar_url': 'https://avatars3.githubusercontent.com/u/45907621?v=4', 'gravatar_id': '', 'url': 'https://api.github.com/users/imt511a-wi19', 'html_url': 'https://github.com/imt511a-wi19', 'followers_url': 'https://api.github.com/users/imt511a-wi19/followers', 'following_url': 'https://api.github.com/users/imt511a-wi19/following{/other_user}', 'gists_url': 'https://api.github.com/users/imt511a-wi19/gists{/gist_id}', 'starred_url': 'https://api.github.com/users/imt511a-wi19/starred{/owner}{/repo}', 'subscriptions_url': 'https://api.github.com/users/imt511a-wi19/subscriptions', 'organizations_url': 'https://api.github.com/users/imt511a-wi19/orgs', 'repos_url': 'https://api.github.com/users/imt511a-wi19/repos', 'events_url': 'https://api.github.com/users/imt511a-wi19/events{/privacy}', 'received_events_url': 'https://api.github.com/users/imt511a-wi19/received_events', 'type': 'Organization', 'site_admin': False}, 'html_url': 'https://github.com/imt511a-wi19/Lecture_8_Notes', 'description': None, 'fork': False, 'url': 'https://api.github.com/repos/imt511a-wi19/Lecture_8_Notes', 'forks_url': 'https://api.github.com/repos/imt511a-wi19/Lecture_8_Notes/forks', 'keys_url': 'https://api.github.com/repos/imt511a-wi19/Lecture_8_Notes/keys{/key_id}', 'collaborators_url': 'https://api.github.com/repos/imt511a-wi19/Lecture_8_Notes/collaborators{/collaborator}', 'teams_url': 'https://api.github.com/repos/imt511a-wi19/Lecture_8_Notes/teams', 'hooks_url': 'https://api.github.com/repos/imt511a-wi19/Lecture_8_Notes/hooks', 'issue_events_url': 'https://api.github.com/repos/imt511a-wi19/Lecture_8_Notes/issues/events{/number}', 'events_url': 'https://api.github.com/repos/imt511a-wi19/Lecture_8_Notes/events', 'assignees_url': 'https://api.github.com/repos/imt511a-wi19/Lecture_8_Notes/assignees{/user}', 'branches_url': 'https://api.github.com/repos/imt511a-wi19/Lecture_8_Notes/branches{/branch}', 'tags_url': 'https://api.github.com/repos/imt511a-wi19/Lecture_8_Notes/tags', 'blobs_url': 'https://api.github.com/repos/imt511a-wi19/Lecture_8_Notes/git/blobs{/sha}', 'git_tags_url': 'https://api.github.com/repos/imt511a-wi19/Lecture_8_Notes/git/tags{/sha}', 'git_refs_url': 'https://api.github.com/repos/imt511a-wi19/Lecture_8_Notes/git/refs{/sha}', 'trees_url': 'https://api.github.com/repos/imt511a-wi19/Lecture_8_Notes/git/trees{/sha}', 'statuses_url': 'https://api.github.com/repos/imt511a-wi19/Lecture_8_Notes/statuses/{sha}', 'languages_url': 'https://api.github.com/repos/imt511a-wi19/Lecture_8_Notes/languages', 'stargazers_url': 'https://api.github.com/repos/imt511a-wi19/Lecture_8_Notes/stargazers', 'contributors_url': 'https://api.github.com/repos/imt511a-wi19/Lecture_8_Notes/contributors', 'subscribers_url': 'https://api.github.com/repos/imt511a-wi19/Lecture_8_Notes/subscribers', 'subscription_url': 'https://api.github.com/repos/imt511a-wi19/Lecture_8_Notes/subscription', 'commits_url': 'https://api.github.com/repos/imt511a-wi19/Lecture_8_Notes/commits{/sha}', 'git_commits_url': 'https://api.github.com/repos/imt511a-wi19/Lecture_8_Notes/git/commits{/sha}', 'comments_url': 'https://api.github.com/repos/imt511a-wi19/Lecture_8_Notes/comments{/number}', 'issue_comment_url': 'https://api.github.com/repos/imt511a-wi19/Lecture_8_Notes/issues/comments{/number}', 'contents_url': 'https://api.github.com/repos/imt511a-wi19/Lecture_8_Notes/contents/{+path}', 'compare_url': 'https://api.github.com/repos/imt511a-wi19/Lecture_8_Notes/compare/{base}...{head}', 'merges_url': 'https://api.github.com/repos/imt511a-wi19/Lecture_8_Notes/merges', 'archive_url': 'https://api.github.com/repos/imt511a-wi19/Lecture_8_Notes/{archive_format}{/ref}', 'downloads_url': 'https://api.github.com/repos/imt511a-wi19/Lecture_8_Notes/downloads', 'issues_url': 'https://api.github.com/repos/imt511a-wi19/Lecture_8_Notes/issues{/number}', 'pulls_url': 'https://api.github.com/repos/imt511a-wi19/Lecture_8_Notes/pulls{/number}', 'milestones_url': 'https://api.github.com/repos/imt511a-wi19/Lecture_8_Notes/milestones{/number}', 'notifications_url': 'https://api.github.com/repos/imt511a-wi19/Lecture_8_Notes/notifications{?since,all,participating}', 'labels_url': 'https://api.github.com/repos/imt511a-wi19/Lecture_8_Notes/labels{/name}', 'releases_url': 'https://api.github.com/repos/imt511a-wi19/Lecture_8_Notes/releases{/id}', 'deployments_url': 'https://api.github.com/repos/imt511a-wi19/Lecture_8_Notes/deployments', 'created_at': '2019-02-18T00:16:17Z', 'updated_at': '2019-02-18T01:57:12Z', 'pushed_at': '2019-02-18T01:57:10Z', 'git_url': 'git://github.com/imt511a-wi19/Lecture_8_Notes.git', 'ssh_url': 'git@github.com:imt511a-wi19/Lecture_8_Notes.git', 'clone_url': 'https://github.com/imt511a-wi19/Lecture_8_Notes.git', 'svn_url': 'https://github.com/imt511a-wi19/Lecture_8_Notes', 'homepage': None, 'size': 6, 'stargazers_count': 0, 'watchers_count': 0, 'language': 'Jupyter Notebook', 'has_issues': True, 'has_projects': True, 'has_downloads': True, 'has_wiki': True, 'has_pages': False, 'forks_count': 3, 'mirror_url': None, 'archived': False, 'open_issues_count': 0, 'license': None, 'forks': 3, 'open_issues': 0, 'watchers': 0, 'default_branch': 'master', 'permissions': {'admin': False, 'push': False, 'pull': True}}, {'id': 172280136, 'node_id': 'MDEwOlJlcG9zaXRvcnkxNzIyODAxMzY=', 'name': 'Lecture_9_Notes', 'full_name': 'imt511a-wi19/Lecture_9_Notes', 'private': False, 'owner': {'login': 'imt511a-wi19', 'id': 45907621, 'node_id': 'MDEyOk9yZ2FuaXphdGlvbjQ1OTA3NjIx', 'avatar_url': 'https://avatars3.githubusercontent.com/u/45907621?v=4', 'gravatar_id': '', 'url': 'https://api.github.com/users/imt511a-wi19', 'html_url': 'https://github.com/imt511a-wi19', 'followers_url': 'https://api.github.com/users/imt511a-wi19/followers', 'following_url': 'https://api.github.com/users/imt511a-wi19/following{/other_user}', 'gists_url': 'https://api.github.com/users/imt511a-wi19/gists{/gist_id}', 'starred_url': 'https://api.github.com/users/imt511a-wi19/starred{/owner}{/repo}', 'subscriptions_url': 'https://api.github.com/users/imt511a-wi19/subscriptions', 'organizations_url': 'https://api.github.com/users/imt511a-wi19/orgs', 'repos_url': 'https://api.github.com/users/imt511a-wi19/repos', 'events_url': 'https://api.github.com/users/imt511a-wi19/events{/privacy}', 'received_events_url': 'https://api.github.com/users/imt511a-wi19/received_events', 'type': 'Organization', 'site_admin': False}, 'html_url': 'https://github.com/imt511a-wi19/Lecture_9_Notes', 'description': None, 'fork': False, 'url': 'https://api.github.com/repos/imt511a-wi19/Lecture_9_Notes', 'forks_url': 'https://api.github.com/repos/imt511a-wi19/Lecture_9_Notes/forks', 'keys_url': 'https://api.github.com/repos/imt511a-wi19/Lecture_9_Notes/keys{/key_id}', 'collaborators_url': 'https://api.github.com/repos/imt511a-wi19/Lecture_9_Notes/collaborators{/collaborator}', 'teams_url': 'https://api.github.com/repos/imt511a-wi19/Lecture_9_Notes/teams', 'hooks_url': 'https://api.github.com/repos/imt511a-wi19/Lecture_9_Notes/hooks', 'issue_events_url': 'https://api.github.com/repos/imt511a-wi19/Lecture_9_Notes/issues/events{/number}', 'events_url': 'https://api.github.com/repos/imt511a-wi19/Lecture_9_Notes/events', 'assignees_url': 'https://api.github.com/repos/imt511a-wi19/Lecture_9_Notes/assignees{/user}', 'branches_url': 'https://api.github.com/repos/imt511a-wi19/Lecture_9_Notes/branches{/branch}', 'tags_url': 'https://api.github.com/repos/imt511a-wi19/Lecture_9_Notes/tags', 'blobs_url': 'https://api.github.com/repos/imt511a-wi19/Lecture_9_Notes/git/blobs{/sha}', 'git_tags_url': 'https://api.github.com/repos/imt511a-wi19/Lecture_9_Notes/git/tags{/sha}', 'git_refs_url': 'https://api.github.com/repos/imt511a-wi19/Lecture_9_Notes/git/refs{/sha}', 'trees_url': 'https://api.github.com/repos/imt511a-wi19/Lecture_9_Notes/git/trees{/sha}', 'statuses_url': 'https://api.github.com/repos/imt511a-wi19/Lecture_9_Notes/statuses/{sha}', 'languages_url': 'https://api.github.com/repos/imt511a-wi19/Lecture_9_Notes/languages', 'stargazers_url': 'https://api.github.com/repos/imt511a-wi19/Lecture_9_Notes/stargazers', 'contributors_url': 'https://api.github.com/repos/imt511a-wi19/Lecture_9_Notes/contributors', 'subscribers_url': 'https://api.github.com/repos/imt511a-wi19/Lecture_9_Notes/subscribers', 'subscription_url': 'https://api.github.com/repos/imt511a-wi19/Lecture_9_Notes/subscription', 'commits_url': 'https://api.github.com/repos/imt511a-wi19/Lecture_9_Notes/commits{/sha}', 'git_commits_url': 'https://api.github.com/repos/imt511a-wi19/Lecture_9_Notes/git/commits{/sha}', 'comments_url': 'https://api.github.com/repos/imt511a-wi19/Lecture_9_Notes/comments{/number}', 'issue_comment_url': 'https://api.github.com/repos/imt511a-wi19/Lecture_9_Notes/issues/comments{/number}', 'contents_url': 'https://api.github.com/repos/imt511a-wi19/Lecture_9_Notes/contents/{+path}', 'compare_url': 'https://api.github.com/repos/imt511a-wi19/Lecture_9_Notes/compare/{base}...{head}', 'merges_url': 'https://api.github.com/repos/imt511a-wi19/Lecture_9_Notes/merges', 'archive_url': 'https://api.github.com/repos/imt511a-wi19/Lecture_9_Notes/{archive_format}{/ref}', 'downloads_url': 'https://api.github.com/repos/imt511a-wi19/Lecture_9_Notes/downloads', 'issues_url': 'https://api.github.com/repos/imt511a-wi19/Lecture_9_Notes/issues{/number}', 'pulls_url': 'https://api.github.com/repos/imt511a-wi19/Lecture_9_Notes/pulls{/number}', 'milestones_url': 'https://api.github.com/repos/imt511a-wi19/Lecture_9_Notes/milestones{/number}', 'notifications_url': 'https://api.github.com/repos/imt511a-wi19/Lecture_9_Notes/notifications{?since,all,participating}', 'labels_url': 'https://api.github.com/repos/imt511a-wi19/Lecture_9_Notes/labels{/name}', 'releases_url': 'https://api.github.com/repos/imt511a-wi19/Lecture_9_Notes/releases{/id}', 'deployments_url': 'https://api.github.com/repos/imt511a-wi19/Lecture_9_Notes/deployments', 'created_at': '2019-02-24T00:43:01Z', 'updated_at': '2019-03-03T01:38:27Z', 'pushed_at': '2019-03-03T01:38:26Z', 'git_url': 'git://github.com/imt511a-wi19/Lecture_9_Notes.git', 'ssh_url': 'git@github.com:imt511a-wi19/Lecture_9_Notes.git', 'clone_url': 'https://github.com/imt511a-wi19/Lecture_9_Notes.git', 'svn_url': 'https://github.com/imt511a-wi19/Lecture_9_Notes', 'homepage': None, 'size': 26, 'stargazers_count': 0, 'watchers_count': 0, 'language': 'Jupyter Notebook', 'has_issues': True, 'has_projects': True, 'has_downloads': True, 'has_wiki': True, 'has_pages': False, 'forks_count': 3, 'mirror_url': None, 'archived': False, 'open_issues_count': 0, 'license': None, 'forks': 3, 'open_issues': 0, 'watchers': 0, 'default_branch': 'master', 'permissions': {'admin': False, 'push': False, 'pull': True}}, {'id': 173681058, 'node_id': 'MDEwOlJlcG9zaXRvcnkxNzM2ODEwNTg=', 'name': 'hw_a5_help', 'full_name': 'imt511a-wi19/hw_a5_help', 'private': False, 'owner': {'login': 'imt511a-wi19', 'id': 45907621, 'node_id': 'MDEyOk9yZ2FuaXphdGlvbjQ1OTA3NjIx', 'avatar_url': 'https://avatars3.githubusercontent.com/u/45907621?v=4', 'gravatar_id': '', 'url': 'https://api.github.com/users/imt511a-wi19', 'html_url': 'https://github.com/imt511a-wi19', 'followers_url': 'https://api.github.com/users/imt511a-wi19/followers', 'following_url': 'https://api.github.com/users/imt511a-wi19/following{/other_user}', 'gists_url': 'https://api.github.com/users/imt511a-wi19/gists{/gist_id}', 'starred_url': 'https://api.github.com/users/imt511a-wi19/starred{/owner}{/repo}', 'subscriptions_url': 'https://api.github.com/users/imt511a-wi19/subscriptions', 'organizations_url': 'https://api.github.com/users/imt511a-wi19/orgs', 'repos_url': 'https://api.github.com/users/imt511a-wi19/repos', 'events_url': 'https://api.github.com/users/imt511a-wi19/events{/privacy}', 'received_events_url': 'https://api.github.com/users/imt511a-wi19/received_events', 'type': 'Organization', 'site_admin': False}, 'html_url': 'https://github.com/imt511a-wi19/hw_a5_help', 'description': None, 'fork': False, 'url': 'https://api.github.com/repos/imt511a-wi19/hw_a5_help', 'forks_url': 'https://api.github.com/repos/imt511a-wi19/hw_a5_help/forks', 'keys_url': 'https://api.github.com/repos/imt511a-wi19/hw_a5_help/keys{/key_id}', 'collaborators_url': 'https://api.github.com/repos/imt511a-wi19/hw_a5_help/collaborators{/collaborator}', 'teams_url': 'https://api.github.com/repos/imt511a-wi19/hw_a5_help/teams', 'hooks_url': 'https://api.github.com/repos/imt511a-wi19/hw_a5_help/hooks', 'issue_events_url': 'https://api.github.com/repos/imt511a-wi19/hw_a5_help/issues/events{/number}', 'events_url': 'https://api.github.com/repos/imt511a-wi19/hw_a5_help/events', 'assignees_url': 'https://api.github.com/repos/imt511a-wi19/hw_a5_help/assignees{/user}', 'branches_url': 'https://api.github.com/repos/imt511a-wi19/hw_a5_help/branches{/branch}', 'tags_url': 'https://api.github.com/repos/imt511a-wi19/hw_a5_help/tags', 'blobs_url': 'https://api.github.com/repos/imt511a-wi19/hw_a5_help/git/blobs{/sha}', 'git_tags_url': 'https://api.github.com/repos/imt511a-wi19/hw_a5_help/git/tags{/sha}', 'git_refs_url': 'https://api.github.com/repos/imt511a-wi19/hw_a5_help/git/refs{/sha}', 'trees_url': 'https://api.github.com/repos/imt511a-wi19/hw_a5_help/git/trees{/sha}', 'statuses_url': 'https://api.github.com/repos/imt511a-wi19/hw_a5_help/statuses/{sha}', 'languages_url': 'https://api.github.com/repos/imt511a-wi19/hw_a5_help/languages', 'stargazers_url': 'https://api.github.com/repos/imt511a-wi19/hw_a5_help/stargazers', 'contributors_url': 'https://api.github.com/repos/imt511a-wi19/hw_a5_help/contributors', 'subscribers_url': 'https://api.github.com/repos/imt511a-wi19/hw_a5_help/subscribers', 'subscription_url': 'https://api.github.com/repos/imt511a-wi19/hw_a5_help/subscription', 'commits_url': 'https://api.github.com/repos/imt511a-wi19/hw_a5_help/commits{/sha}', 'git_commits_url': 'https://api.github.com/repos/imt511a-wi19/hw_a5_help/git/commits{/sha}', 'comments_url': 'https://api.github.com/repos/imt511a-wi19/hw_a5_help/comments{/number}', 'issue_comment_url': 'https://api.github.com/repos/imt511a-wi19/hw_a5_help/issues/comments{/number}', 'contents_url': 'https://api.github.com/repos/imt511a-wi19/hw_a5_help/contents/{+path}', 'compare_url': 'https://api.github.com/repos/imt511a-wi19/hw_a5_help/compare/{base}...{head}', 'merges_url': 'https://api.github.com/repos/imt511a-wi19/hw_a5_help/merges', 'archive_url': 'https://api.github.com/repos/imt511a-wi19/hw_a5_help/{archive_format}{/ref}', 'downloads_url': 'https://api.github.com/repos/imt511a-wi19/hw_a5_help/downloads', 'issues_url': 'https://api.github.com/repos/imt511a-wi19/hw_a5_help/issues{/number}', 'pulls_url': 'https://api.github.com/repos/imt511a-wi19/hw_a5_help/pulls{/number}', 'milestones_url': 'https://api.github.com/repos/imt511a-wi19/hw_a5_help/milestones{/number}', 'notifications_url': 'https://api.github.com/repos/imt511a-wi19/hw_a5_help/notifications{?since,all,participating}', 'labels_url': 'https://api.github.com/repos/imt511a-wi19/hw_a5_help/labels{/name}', 'releases_url': 'https://api.github.com/repos/imt511a-wi19/hw_a5_help/releases{/id}', 'deployments_url': 'https://api.github.com/repos/imt511a-wi19/hw_a5_help/deployments', 'created_at': '2019-03-04T05:45:14Z', 'updated_at': '2019-03-04T05:45:41Z', 'pushed_at': '2019-03-04T05:45:39Z', 'git_url': 'git://github.com/imt511a-wi19/hw_a5_help.git', 'ssh_url': 'git@github.com:imt511a-wi19/hw_a5_help.git', 'clone_url': 'https://github.com/imt511a-wi19/hw_a5_help.git', 'svn_url': 'https://github.com/imt511a-wi19/hw_a5_help', 'homepage': None, 'size': 108, 'stargazers_count': 0, 'watchers_count': 0, 'language': 'Jupyter Notebook', 'has_issues': True, 'has_projects': True, 'has_downloads': True, 'has_wiki': True, 'has_pages': False, 'forks_count': 3, 'mirror_url': None, 'archived': False, 'open_issues_count': 0, 'license': None, 'forks': 3, 'open_issues': 0, 'watchers': 0, 'default_branch': 'master', 'permissions': {'admin': False, 'push': False, 'pull': True}}]\n"
     ]
    }
   ],
   "source": [
    "import json\n",
    "data = response.json()\n",
    "print(len(data))\n",
    "print(data)"
   ]
  },
  {
   "cell_type": "markdown",
   "metadata": {},
   "source": [
    "Create a variable **`search_endpoint`** that stores the endpoint used to search for repositories."
   ]
  },
  {
   "cell_type": "code",
   "execution_count": 37,
   "metadata": {},
   "outputs": [],
   "source": [
    "search_endpoint = \"/search/repositories\""
   ]
  },
  {
   "cell_type": "markdown",
   "metadata": {},
   "source": [
    "Use the `search_endpoint` to search for repositories about _\"visualization\"_. Access the response's JSON content, saving that data in a variable (e.g., `vis_repos`)."
   ]
  },
  {
   "cell_type": "code",
   "execution_count": 40,
   "metadata": {},
   "outputs": [
    {
     "data": {
      "text/plain": [
       "dict"
      ]
     },
     "execution_count": 40,
     "metadata": {},
     "output_type": "execute_result"
    }
   ],
   "source": [
    "query_param = {'q': \"visualization\"}\n",
    "response = requests.get(base_uri + search_endpoint, params = query_param)\n",
    "vis_repos = response.json()\n",
    "type(vis_repos)"
   ]
  },
  {
   "cell_type": "markdown",
   "metadata": {},
   "source": [
    "Print how many repositories your search returned. (Hint: yuo can first check the dictionary keys for the information you want)."
   ]
  },
  {
   "cell_type": "code",
   "execution_count": 41,
   "metadata": {},
   "outputs": [
    {
     "data": {
      "text/plain": [
       "85766"
      ]
     },
     "execution_count": 41,
     "metadata": {},
     "output_type": "execute_result"
    }
   ],
   "source": [
    "vis_repos.keys()\n",
    "vis_repos['total_count']"
   ]
  },
  {
   "cell_type": "markdown",
   "metadata": {},
   "source": [
    "Print out the \"full name\" (i.e., the user and repo name) of the top result from your search."
   ]
  },
  {
   "cell_type": "code",
   "execution_count": 44,
   "metadata": {},
   "outputs": [
    {
     "data": {
      "text/plain": [
       "'d3/d3'"
      ]
     },
     "execution_count": 44,
     "metadata": {},
     "output_type": "execute_result"
    }
   ],
   "source": [
    "vis_repos['items'][0]['full_name']"
   ]
  },
  {
   "cell_type": "markdown",
   "metadata": {},
   "source": [
    "_Challenge_: Use the GitHub API to get a list of the contributors to the **`python/cpython`** repository (the source code for the Python programming language!) and the number of commits they've made. This will be a really big response with lots of data! Check the schema description to understand how to navigate it."
   ]
  },
  {
   "cell_type": "code",
   "execution_count": 50,
   "metadata": {},
   "outputs": [
    {
     "data": {
      "text/plain": [
       "list"
      ]
     },
     "execution_count": 50,
     "metadata": {},
     "output_type": "execute_result"
    }
   ],
   "source": [
    "contrib_endpoint = \"/repos/python/cpython/stats/contributors\"\n",
    "response = requests.get(base_uri + contrib_endpoint)\n",
    "contributors = response.json()\n",
    "type(contributors)"
   ]
  },
  {
   "cell_type": "markdown",
   "metadata": {},
   "source": [
    "Who were the top 10 contributors in terms of total commits (and how many commits did each make)? _Hint:_ use a list comprehension to _map_ and _filter_ the list for the information you care about, then sort it in descending order by commit count, then output the top 10 items."
   ]
  },
  {
   "cell_type": "code",
   "execution_count": 51,
   "metadata": {},
   "outputs": [
    {
     "data": {
      "text/plain": [
       "'etrepum'"
      ]
     },
     "execution_count": 51,
     "metadata": {},
     "output_type": "execute_result"
    }
   ],
   "source": [
    "contributors[0]['author']['login']"
   ]
  },
  {
   "cell_type": "code",
   "execution_count": 58,
   "metadata": {},
   "outputs": [
    {
     "data": {
      "text/plain": [
       "[(10961, 'gvanrossum'),\n",
       " (5462, 'freddrake'),\n",
       " (5025, 'birkenfeld'),\n",
       " (4278, 'benjaminp'),\n",
       " (3742, 'rhettinger'),\n",
       " (3179, 'vstinner'),\n",
       " (3099, 'pitrou'),\n",
       " (2978, 'jackjansen'),\n",
       " (2672, 'loewis'),\n",
       " (2452, 'tim-one')]"
      ]
     },
     "execution_count": 58,
     "metadata": {},
     "output_type": "execute_result"
    }
   ],
   "source": [
    "contributor_counts = sorted([(item['total'], item['author']['login']) for item in contributors ], reverse = True)\n",
    "contributor_counts[:10]"
   ]
  },
  {
   "cell_type": "code",
   "execution_count": null,
   "metadata": {},
   "outputs": [],
   "source": []
  }
 ],
 "metadata": {
  "kernelspec": {
   "display_name": "Python 3",
   "language": "python",
   "name": "python3"
  },
  "language_info": {
   "codemirror_mode": {
    "name": "ipython",
    "version": 3
   },
   "file_extension": ".py",
   "mimetype": "text/x-python",
   "name": "python",
   "nbconvert_exporter": "python",
   "pygments_lexer": "ipython3",
   "version": "3.7.1"
  },
  "toc": {
   "colors": {
    "hover_highlight": "#DAA520",
    "running_highlight": "#FF0000",
    "selected_highlight": "#FFD700"
   },
   "moveMenuLeft": true,
   "nav_menu": {
    "height": "30px",
    "width": "252px"
   },
   "navigate_menu": true,
   "number_sections": true,
   "sideBar": true,
   "threshold": 4,
   "toc_cell": false,
   "toc_section_display": "block",
   "toc_window_display": false,
   "widenNotebook": false
  }
 },
 "nbformat": 4,
 "nbformat_minor": 2
}
